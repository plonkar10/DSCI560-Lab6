{
 "cells": [
  {
   "cell_type": "code",
   "execution_count": null,
   "metadata": {},
   "outputs": [],
   "source": [
    "import streamlit as st\n",
    "from htmlTemplates import bot_template, user_template, css"
   ]
  },
  {
   "cell_type": "code",
   "execution_count": null,
   "metadata": {},
   "outputs": [],
   "source": [
    "def display_chat():\n",
    "    if \"chat_history\" in st.session_state:\n",
    "        pairs = [st.session_state.chat_history[i : i + 2] for i in range(0, len(st.session_state.chat_history), 2)]\n",
    "        reversed_pairs = reversed(pairs)\n",
    "\n",
    "        # Iterate over reversed pairs to maintain order of conversation\n",
    "        for pair in reversed_pairs:\n",
    "            st.write(user_template.replace(\"{{MSG}}\", pair[0].content), unsafe_allow_html=True)\n",
    "            st.write(bot_template.replace(\"{{MSG}}\", pair[1].content), unsafe_allow_html=True)\n",
    "\n"
   ]
  },
  {
   "cell_type": "code",
   "execution_count": null,
   "metadata": {},
   "outputs": [],
   "source": [
    "def handle_userinput(user_question):\n",
    "    response = st.session_state.conversation({\"question\": user_question})\n",
    "    st.session_state.chat_history = response[\"chat_history\"]\n",
    "\n",
    "    pairs = [st.session_state.chat_history[i : i + 2] for i in range(0, len(st.session_state.chat_history), 2)]\n",
    "    # Reverse pairs\n",
    "    reversed_pairs = reversed(pairs)\n",
    "\n",
    "    # Iterate over reversed pairs to maintain order of conversation\n",
    "    for pair in reversed_pairs:\n",
    "        st.write(user_template.replace(\"{{MSG}}\", pair[0].content), unsafe_allow_html=True)\n",
    "        st.write(bot_template.replace(\"{{MSG}}\", pair[1].content), unsafe_allow_html=True)"
   ]
  },
  {
   "cell_type": "code",
   "execution_count": null,
   "metadata": {},
   "outputs": [],
   "source": [
    "def build_interface():\n",
    "    st.set_page_config(page_title=\"Chat with PDFs\", page_icon=\":robot_face:\")\n",
    "    st.write(css, unsafe_allow_html=True)\n",
    "\n",
    "    st.header(\"Chat with PDFs :robot_face:\")\n",
    "\n",
    "    # Text input for user questions\n",
    "    user_question = st.text_input(\"Ask questions about your documents:\")\n",
    "\n",
    "    if user_question and st.session_state.conversation:\n",
    "        handle_userinput(user_question)\n",
    "        display_chat()\n",
    "    elif user_question:\n",
    "        st.warning(\"Please upload PDFs and click on 'Process' first.\")\n",
    "\n",
    "    # Sidebar for PDF upload\n",
    "    with st.sidebar:\n",
    "        st.subheader(\"Your documents\")\n",
    "        pdf_docs = st.file_uploader(\"Upload your PDFs here and click on 'Process'\", accept_multiple_files=True)\n",
    "\n",
    "        if st.button(\"Process\"):\n",
    "            if pdf_docs:\n",
    "                with st.spinner(\"Processing\"):\n",
    "                    raw_text = get_pdf_text(pdf_docs)\n",
    "                    text_chunks = get_text_chunks(raw_text)\n",
    "                    vectorstore = get_vectorstore(text_chunks)\n",
    "                    st.session_state.conversation = get_conversation_chain(vectorstore)\n",
    "                    st.success(\"PDFs processed successfully!\")\n",
    "            else:\n",
    "                st.warning(\"Please upload at least one PDF.\")\n",
    "\n"
   ]
  },
  {
   "cell_type": "code",
   "execution_count": null,
   "metadata": {},
   "outputs": [],
   "source": [
    "if __name__ == \"__main__\":\n",
    "    build_interface()"
   ]
  }
 ],
 "metadata": {
  "kernelspec": {
   "display_name": "Python 3",
   "language": "python",
   "name": "python3"
  },
  "language_info": {
   "codemirror_mode": {
    "name": "ipython",
    "version": 3
   },
   "file_extension": ".py",
   "mimetype": "text/x-python",
   "name": "python",
   "nbconvert_exporter": "python",
   "pygments_lexer": "ipython3",
   "version": "3.9.0"
  }
 },
 "nbformat": 4,
 "nbformat_minor": 2
}
